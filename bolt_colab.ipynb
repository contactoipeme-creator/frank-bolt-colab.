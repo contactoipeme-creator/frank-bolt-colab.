{
 "cells": [
  {
   "cell_type": "markdown",
   "metadata": {},
   "source": [
    "# 🚀 Bolt.dly en Google Colab\n",
    "\n",
    "Este notebook instala y ejecuta **Bolt.dly** en un entorno de Google Colab.\n",
    "Al final tendrás un enlace público (gracias a `ngrok`) para usar Bolt en el navegador."
   ]
  },
  {
   "cell_type": "code",
   "execution_count": null,
   "metadata": {},
   "outputs": [],
   "source": [
    "# 1. Clonar el repositorio de Bolt.dly\n",
    "!git clone https://github.com/stackblitz-labs/bolt.dly.git\n",
    "%cd bolt.dly"
   ]
  },
  {
   "cell_type": "code",
   "execution_count": null,
   "metadata": {},
   "outputs": [],
   "source": [
    "# 2. Instalar dependencias\n",
    "!npm install"
   ]
  },
  {
   "cell_type": "code",
   "execution_count": null,
   "metadata": {},
   "outputs": [],
   "source": [
    "# 3. Instalar y configurar ngrok para exponer el servidor\n",
    "!pip install pyngrok\n",
    "from pyngrok import ngrok\n",
    "\n",
    "# Crea un túnel http en el puerto 3000\n",
    "public_url = ngrok.connect(3000)\n",
    "print(\"URL pública para acceder a Bolt:\", public_url)"
   ]
  },
  {
   "cell_type": "code",
   "execution_count": null,
   "metadata": {},
   "outputs": [],
   "source": [
    "# 4. Iniciar Bolt.dly\n",
    "!npm run dev"
   ]
  }
 ],
 "metadata": {
  "colab": {
   "provenance": []
  },
  "kernelspec": {
   "display_name": "Python 3",
   "language": "python",
   "name": "python3"
  },
  "language_info": {
   "name": "python"
  }
 },
 "nbformat": 4,
 "nbformat_minor": 0
}
